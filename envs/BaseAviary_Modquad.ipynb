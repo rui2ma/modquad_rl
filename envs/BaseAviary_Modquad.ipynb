{
 "cells": [
  {
   "cell_type": "code",
   "execution_count": 1,
   "metadata": {},
   "outputs": [
    {
     "name": "stderr",
     "output_type": "stream",
     "text": [
      "pybullet build time: Nov 14 2023 13:26:03\n"
     ]
    }
   ],
   "source": [
    "from BaseAviary_Modquad import *"
   ]
  },
  {
   "cell_type": "code",
   "execution_count": 2,
   "metadata": {},
   "outputs": [
    {
     "ename": "IndexError",
     "evalue": "child index out of range",
     "output_type": "error",
     "traceback": [
      "\u001b[0;31m---------------------------------------------------------------------------\u001b[0m",
      "\u001b[0;31mIndexError\u001b[0m                                Traceback (most recent call last)",
      "\u001b[1;32m/Users/ruirui/gym-pybullet-drones/gym_pybullet_drones/envs/BaseAviary_Modquad.ipynb Cell 2\u001b[0m line \u001b[0;36m1\n\u001b[0;32m----> <a href='vscode-notebook-cell:/Users/ruirui/gym-pybullet-drones/gym_pybullet_drones/envs/BaseAviary_Modquad.ipynb#W1sZmlsZQ%3D%3D?line=0'>1</a>\u001b[0m modquad \u001b[39m=\u001b[39m BaseAviary()\n",
      "File \u001b[0;32m~/gym-pybullet-drones/gym_pybullet_drones/envs/BaseAviary_Modquad.py:113\u001b[0m, in \u001b[0;36mBaseAviary.__init__\u001b[0;34m(self, drone_model, num_drones, neighbourhood_radius, initial_xyzs, initial_rpys, physics, pyb_freq, ctrl_freq, gui, record, obstacles, user_debug_gui, vision_attributes, output_folder)\u001b[0m\n\u001b[1;32m     95\u001b[0m \u001b[39mself\u001b[39m\u001b[39m.\u001b[39mOUTPUT_FOLDER \u001b[39m=\u001b[39m output_folder\n\u001b[1;32m     96\u001b[0m \u001b[39m#### Load the drone properties from the .urdf file #########\u001b[39;00m\n\u001b[1;32m     97\u001b[0m \u001b[39mself\u001b[39m\u001b[39m.\u001b[39mM, \\\n\u001b[1;32m     98\u001b[0m \u001b[39mself\u001b[39m\u001b[39m.\u001b[39mL, \\\n\u001b[1;32m     99\u001b[0m \u001b[39mself\u001b[39m\u001b[39m.\u001b[39mTHRUST2WEIGHT_RATIO, \\\n\u001b[1;32m    100\u001b[0m \u001b[39mself\u001b[39m\u001b[39m.\u001b[39mJ, \\\n\u001b[1;32m    101\u001b[0m \u001b[39mself\u001b[39m\u001b[39m.\u001b[39mJ_INV, \\\n\u001b[1;32m    102\u001b[0m \u001b[39mself\u001b[39m\u001b[39m.\u001b[39mKF, \\\n\u001b[1;32m    103\u001b[0m \u001b[39mself\u001b[39m\u001b[39m.\u001b[39mKM, \\\n\u001b[1;32m    104\u001b[0m \u001b[39mself\u001b[39m\u001b[39m.\u001b[39mCOLLISION_H,\\\n\u001b[1;32m    105\u001b[0m \u001b[39mself\u001b[39m\u001b[39m.\u001b[39mCOLLISION_R, \\\n\u001b[1;32m    106\u001b[0m \u001b[39mself\u001b[39m\u001b[39m.\u001b[39mCOLLISION_Z_OFFSET, \\\n\u001b[1;32m    107\u001b[0m \u001b[39mself\u001b[39m\u001b[39m.\u001b[39mMAX_SPEED_KMH, \\\n\u001b[1;32m    108\u001b[0m \u001b[39mself\u001b[39m\u001b[39m.\u001b[39mGND_EFF_COEFF, \\\n\u001b[1;32m    109\u001b[0m \u001b[39mself\u001b[39m\u001b[39m.\u001b[39mPROP_RADIUS, \\\n\u001b[1;32m    110\u001b[0m \u001b[39mself\u001b[39m\u001b[39m.\u001b[39mDRAG_COEFF, \\\n\u001b[1;32m    111\u001b[0m \u001b[39mself\u001b[39m\u001b[39m.\u001b[39mDW_COEFF_1, \\\n\u001b[1;32m    112\u001b[0m \u001b[39mself\u001b[39m\u001b[39m.\u001b[39mDW_COEFF_2, \\\n\u001b[0;32m--> 113\u001b[0m \u001b[39mself\u001b[39m\u001b[39m.\u001b[39mDW_COEFF_3 \u001b[39m=\u001b[39m \u001b[39mself\u001b[39;49m\u001b[39m.\u001b[39;49m_parseURDFParameters()\n\u001b[1;32m    114\u001b[0m \u001b[39mprint\u001b[39m(\u001b[39m\"\u001b[39m\u001b[39m[INFO] BaseAviary.__init__() loaded parameters from the drone\u001b[39m\u001b[39m'\u001b[39m\u001b[39ms .urdf:\u001b[39m\u001b[39m\\n\u001b[39;00m\u001b[39m[INFO] m \u001b[39m\u001b[39m{:f}\u001b[39;00m\u001b[39m, L \u001b[39m\u001b[39m{:f}\u001b[39;00m\u001b[39m,\u001b[39m\u001b[39m\\n\u001b[39;00m\u001b[39m[INFO] ixx \u001b[39m\u001b[39m{:f}\u001b[39;00m\u001b[39m, iyy \u001b[39m\u001b[39m{:f}\u001b[39;00m\u001b[39m, izz \u001b[39m\u001b[39m{:f}\u001b[39;00m\u001b[39m,\u001b[39m\u001b[39m\\n\u001b[39;00m\u001b[39m[INFO] kf \u001b[39m\u001b[39m{:f}\u001b[39;00m\u001b[39m, km \u001b[39m\u001b[39m{:f}\u001b[39;00m\u001b[39m,\u001b[39m\u001b[39m\\n\u001b[39;00m\u001b[39m[INFO] t2w \u001b[39m\u001b[39m{:f}\u001b[39;00m\u001b[39m, max_speed_kmh \u001b[39m\u001b[39m{:f}\u001b[39;00m\u001b[39m,\u001b[39m\u001b[39m\\n\u001b[39;00m\u001b[39m[INFO] gnd_eff_coeff \u001b[39m\u001b[39m{:f}\u001b[39;00m\u001b[39m, prop_radius \u001b[39m\u001b[39m{:f}\u001b[39;00m\u001b[39m,\u001b[39m\u001b[39m\\n\u001b[39;00m\u001b[39m[INFO] drag_xy_coeff \u001b[39m\u001b[39m{:f}\u001b[39;00m\u001b[39m, drag_z_coeff \u001b[39m\u001b[39m{:f}\u001b[39;00m\u001b[39m,\u001b[39m\u001b[39m\\n\u001b[39;00m\u001b[39m[INFO] dw_coeff_1 \u001b[39m\u001b[39m{:f}\u001b[39;00m\u001b[39m, dw_coeff_2 \u001b[39m\u001b[39m{:f}\u001b[39;00m\u001b[39m, dw_coeff_3 \u001b[39m\u001b[39m{:f}\u001b[39;00m\u001b[39m\"\u001b[39m\u001b[39m.\u001b[39mformat(\n\u001b[1;32m    115\u001b[0m     \u001b[39mself\u001b[39m\u001b[39m.\u001b[39mM, \u001b[39mself\u001b[39m\u001b[39m.\u001b[39mL, \u001b[39mself\u001b[39m\u001b[39m.\u001b[39mJ[\u001b[39m0\u001b[39m,\u001b[39m0\u001b[39m], \u001b[39mself\u001b[39m\u001b[39m.\u001b[39mJ[\u001b[39m1\u001b[39m,\u001b[39m1\u001b[39m], \u001b[39mself\u001b[39m\u001b[39m.\u001b[39mJ[\u001b[39m2\u001b[39m,\u001b[39m2\u001b[39m], \u001b[39mself\u001b[39m\u001b[39m.\u001b[39mKF, \u001b[39mself\u001b[39m\u001b[39m.\u001b[39mKM, \u001b[39mself\u001b[39m\u001b[39m.\u001b[39mTHRUST2WEIGHT_RATIO, \u001b[39mself\u001b[39m\u001b[39m.\u001b[39mMAX_SPEED_KMH, \u001b[39mself\u001b[39m\u001b[39m.\u001b[39mGND_EFF_COEFF, \u001b[39mself\u001b[39m\u001b[39m.\u001b[39mPROP_RADIUS, \u001b[39mself\u001b[39m\u001b[39m.\u001b[39mDRAG_COEFF[\u001b[39m0\u001b[39m], \u001b[39mself\u001b[39m\u001b[39m.\u001b[39mDRAG_COEFF[\u001b[39m2\u001b[39m], \u001b[39mself\u001b[39m\u001b[39m.\u001b[39mDW_COEFF_1, \u001b[39mself\u001b[39m\u001b[39m.\u001b[39mDW_COEFF_2, \u001b[39mself\u001b[39m\u001b[39m.\u001b[39mDW_COEFF_3))\n\u001b[1;32m    116\u001b[0m \u001b[39m#### Compute constants #####################################\u001b[39;00m\n",
      "File \u001b[0;32m~/gym-pybullet-drones/gym_pybullet_drones/envs/BaseAviary_Modquad.py:992\u001b[0m, in \u001b[0;36mBaseAviary._parseURDFParameters\u001b[0;34m(self)\u001b[0m\n\u001b[1;32m    985\u001b[0m \u001b[39m\u001b[39m\u001b[39m\"\"\"Loads parameters from an URDF file.\u001b[39;00m\n\u001b[1;32m    986\u001b[0m \n\u001b[1;32m    987\u001b[0m \u001b[39mThis method is nothing more than a custom XML parser for the .urdf\u001b[39;00m\n\u001b[1;32m    988\u001b[0m \u001b[39mfiles in folder `assets/`.\u001b[39;00m\n\u001b[1;32m    989\u001b[0m \n\u001b[1;32m    990\u001b[0m \u001b[39m\"\"\"\u001b[39;00m\n\u001b[1;32m    991\u001b[0m URDF_TREE \u001b[39m=\u001b[39m etxml\u001b[39m.\u001b[39mparse(pkg_resources\u001b[39m.\u001b[39mresource_filename(\u001b[39m'\u001b[39m\u001b[39mgym_pybullet_drones\u001b[39m\u001b[39m'\u001b[39m, \u001b[39m'\u001b[39m\u001b[39massets/2x1_modquad/\u001b[39m\u001b[39m'\u001b[39m\u001b[39m+\u001b[39m\u001b[39mself\u001b[39m\u001b[39m.\u001b[39mURDF))\u001b[39m.\u001b[39mgetroot()\n\u001b[0;32m--> 992\u001b[0m M \u001b[39m=\u001b[39m \u001b[39mfloat\u001b[39m(URDF_TREE[\u001b[39m1\u001b[39;49m][\u001b[39m0\u001b[39;49m][\u001b[39m1\u001b[39;49m]\u001b[39m.\u001b[39mattrib[\u001b[39m'\u001b[39m\u001b[39mvalue\u001b[39m\u001b[39m'\u001b[39m])\n\u001b[1;32m    993\u001b[0m L \u001b[39m=\u001b[39m \u001b[39mfloat\u001b[39m(URDF_TREE[\u001b[39m0\u001b[39m]\u001b[39m.\u001b[39mattrib[\u001b[39m'\u001b[39m\u001b[39marm\u001b[39m\u001b[39m'\u001b[39m])\n\u001b[1;32m    994\u001b[0m THRUST2WEIGHT_RATIO \u001b[39m=\u001b[39m \u001b[39mfloat\u001b[39m(URDF_TREE[\u001b[39m0\u001b[39m]\u001b[39m.\u001b[39mattrib[\u001b[39m'\u001b[39m\u001b[39mthrust2weight\u001b[39m\u001b[39m'\u001b[39m])\n",
      "\u001b[0;31mIndexError\u001b[0m: child index out of range"
     ]
    }
   ],
   "source": [
    "modquad = BaseAviary()"
   ]
  },
  {
   "cell_type": "code",
   "execution_count": 18,
   "metadata": {},
   "outputs": [
    {
     "name": "stdout",
     "output_type": "stream",
     "text": [
      "<Element 'link' at 0x11fc413a0>\n"
     ]
    },
    {
     "data": {
      "text/plain": [
       "0.027"
      ]
     },
     "execution_count": 18,
     "metadata": {},
     "output_type": "execute_result"
    }
   ],
   "source": [
    "def parseURDFParameters():\n",
    "    \"\"\"Loads parameters from an URDF file.\n",
    "\n",
    "    This method is nothing more than a custom XML parser for the .urdf\n",
    "    files in folder `assets/`.\n",
    "\n",
    "    \"\"\"\n",
    "    # URDF_TREE = etxml.parse(pkg_resources.resource_filename('gym_pybullet_drones', 'assets/2x1_modquad/'+'2x1.urdf')).getroot()\n",
    "    URDF_TREE = etxml.parse(pkg_resources.resource_filename('gym_pybullet_drones', 'assets/cf2p.urdf')).getroot()\n",
    "    M = float(URDF_TREE[1][0][1].attrib['value'])\n",
    "    \n",
    "    L = float(URDF_TREE[0].attrib['arm'])\n",
    "    THRUST2WEIGHT_RATIO = float(URDF_TREE[0].attrib['thrust2weight'])\n",
    "    IXX = float(URDF_TREE[1][0][2].attrib['ixx'])\n",
    "    IYY = float(URDF_TREE[1][0][2].attrib['iyy'])\n",
    "    IZZ = float(URDF_TREE[1][0][2].attrib['izz'])\n",
    "    J = np.diag([IXX, IYY, IZZ])\n",
    "    J_INV = np.linalg.inv(J)\n",
    "    KF = float(URDF_TREE[0].attrib['kf'])\n",
    "    KM = float(URDF_TREE[0].attrib['km'])\n",
    "    COLLISION_H = float(URDF_TREE[1][2][1][0].attrib['length'])\n",
    "    COLLISION_R = float(URDF_TREE[1][2][1][0].attrib['radius'])\n",
    "    COLLISION_SHAPE_OFFSETS = [float(s) for s in URDF_TREE[1][2][0].attrib['xyz'].split(' ')]\n",
    "    COLLISION_Z_OFFSET = COLLISION_SHAPE_OFFSETS[2]\n",
    "    MAX_SPEED_KMH = float(URDF_TREE[0].attrib['max_speed_kmh'])\n",
    "    GND_EFF_COEFF = float(URDF_TREE[0].attrib['gnd_eff_coeff'])\n",
    "    PROP_RADIUS = float(URDF_TREE[0].attrib['prop_radius'])\n",
    "    DRAG_COEFF_XY = float(URDF_TREE[0].attrib['drag_coeff_xy'])\n",
    "    DRAG_COEFF_Z = float(URDF_TREE[0].attrib['drag_coeff_z'])\n",
    "    DRAG_COEFF = np.array([DRAG_COEFF_XY, DRAG_COEFF_XY, DRAG_COEFF_Z])\n",
    "    DW_COEFF_1 = float(URDF_TREE[0].attrib['dw_coeff_1'])\n",
    "    DW_COEFF_2 = float(URDF_TREE[0].attrib['dw_coeff_2'])\n",
    "    DW_COEFF_3 = float(URDF_TREE[0].attrib['dw_coeff_3'])\n",
    "    return M\n",
    "    # return M, L, THRUST2WEIGHT_RATIO, J, J_INV, KF, KM, COLLISION_H, COLLISION_R, COLLISION_Z_OFFSET, MAX_SPEED_KMH, \\\n",
    "    #        GND_EFF_COEFF, PROP_RADIUS, DRAG_COEFF, DW_COEFF_1, DW_COEFF_2, DW_COEFF_3\n",
    "parseURDFParameters()"
   ]
  },
  {
   "cell_type": "code",
   "execution_count": 29,
   "metadata": {},
   "outputs": [
    {
     "data": {
      "text/plain": [
       "(0.033750001341105,\n",
       " 0.0397,\n",
       " 2.25,\n",
       " array([[1.35000012e-04, 0.00000000e+00, 0.00000000e+00],\n",
       "        [0.00000000e+00, 1.68750015e-05, 0.00000000e+00],\n",
       "        [0.00000000e+00, 0.00000000e+00, 4.21875007e-05]]),\n",
       " array([[ 7407.40676123,     0.        ,     0.        ],\n",
       "        [    0.        , 59259.25408984,     0.        ],\n",
       "        [    0.        ,     0.        , 23703.70329162]]),\n",
       " 3.16e-10,\n",
       " 7.94e-12,\n",
       " 0.0075362827628851,\n",
       " 0.024999996647239,\n",
       " 0.35,\n",
       " 30.0,\n",
       " 11.36859,\n",
       " 0.0231348,\n",
       " array([9.1785e-07, 9.1785e-07, 1.0311e-06]),\n",
       " 2267.18,\n",
       " 0.16,\n",
       " -0.11)"
      ]
     },
     "execution_count": 29,
     "metadata": {},
     "output_type": "execute_result"
    }
   ],
   "source": [
    "def parseURDFParameters():\n",
    "    \"\"\"Loads parameters from an URDF file.\n",
    "\n",
    "    This method is nothing more than a custom XML parser for the .urdf\n",
    "    files in folder `assets/`.\n",
    "\n",
    "    \"\"\"\n",
    "    URDF_TREE = etxml.parse(pkg_resources.resource_filename('gym_pybullet_drones', 'assets/2x1_modquad/'+'2x1.urdf')).getroot()\n",
    "    # URDF_TREE = etxml.parse(pkg_resources.resource_filename('gym_pybullet_drones', 'assets/cf2p.urdf')).getroot()\n",
    "    M = float(URDF_TREE[1][0][2].attrib['value'])\n",
    "    L = float(URDF_TREE[0].attrib['arm'])\n",
    "    THRUST2WEIGHT_RATIO = float(URDF_TREE[0].attrib['thrust2weight'])\n",
    "    IXX = float(URDF_TREE[1][0][1].attrib['ixx'])\n",
    "    IYY = float(URDF_TREE[1][0][1].attrib['iyy'])\n",
    "    IZZ = float(URDF_TREE[1][0][1].attrib['izz'])\n",
    "    J = np.diag([IXX, IYY, IZZ])\n",
    "    J_INV = np.linalg.inv(J)\n",
    "    KF = float(URDF_TREE[0].attrib['kf'])\n",
    "    KM = float(URDF_TREE[0].attrib['km'])\n",
    "    COLLISION_H = float(URDF_TREE[3][1][1][0].attrib['length'])\n",
    "    COLLISION_R = float(URDF_TREE[3][1][1][0].attrib['radius'])\n",
    "    COLLISION_SHAPE_OFFSETS = [float(s) for s in URDF_TREE[1][1][0].attrib['xyz'].split(' ')]\n",
    "    COLLISION_Z_OFFSET = COLLISION_SHAPE_OFFSETS[2]\n",
    "    MAX_SPEED_KMH = float(URDF_TREE[0].attrib['max_speed_kmh'])\n",
    "    GND_EFF_COEFF = float(URDF_TREE[0].attrib['gnd_eff_coeff'])\n",
    "    PROP_RADIUS = float(URDF_TREE[0].attrib['prop_radius'])\n",
    "    DRAG_COEFF_XY = float(URDF_TREE[0].attrib['drag_coeff_xy'])\n",
    "    DRAG_COEFF_Z = float(URDF_TREE[0].attrib['drag_coeff_z'])\n",
    "    DRAG_COEFF = np.array([DRAG_COEFF_XY, DRAG_COEFF_XY, DRAG_COEFF_Z])\n",
    "    DW_COEFF_1 = float(URDF_TREE[0].attrib['dw_coeff_1'])\n",
    "    DW_COEFF_2 = float(URDF_TREE[0].attrib['dw_coeff_2'])\n",
    "    DW_COEFF_3 = float(URDF_TREE[0].attrib['dw_coeff_3'])\n",
    "    return M, L, THRUST2WEIGHT_RATIO, J, J_INV, KF, KM, COLLISION_H, COLLISION_R, COLLISION_Z_OFFSET, MAX_SPEED_KMH, \\\n",
    "           GND_EFF_COEFF, PROP_RADIUS, DRAG_COEFF, DW_COEFF_1, DW_COEFF_2, DW_COEFF_3\n",
    "parseURDFParameters()"
   ]
  }
 ],
 "metadata": {
  "kernelspec": {
   "display_name": "drones",
   "language": "python",
   "name": "python3"
  },
  "language_info": {
   "codemirror_mode": {
    "name": "ipython",
    "version": 3
   },
   "file_extension": ".py",
   "mimetype": "text/x-python",
   "name": "python",
   "nbconvert_exporter": "python",
   "pygments_lexer": "ipython3",
   "version": "3.10.13"
  }
 },
 "nbformat": 4,
 "nbformat_minor": 2
}
