{
 "cells": [
  {
   "cell_type": "code",
   "execution_count": 1,
   "metadata": {},
   "outputs": [],
   "source": [
    "# Import some basic libraries and functions for this tutorial.\n",
    "import numpy as np\n",
    "import os\n",
    "\n",
    "from pydrake.common import temp_directory\n",
    "from pydrake.geometry import StartMeshcat\n",
    "from pydrake.math import RigidTransform, RollPitchYaw\n",
    "from pydrake.multibody.parsing import Parser\n",
    "from pydrake.multibody.plant import AddMultibodyPlantSceneGraph\n",
    "from pydrake.systems.analysis import Simulator\n",
    "from pydrake.systems.framework import DiagramBuilder\n",
    "from pydrake.visualization import AddDefaultVisualization, ModelVisualizer\n",
    "from pydrake.all import FindResourceOrThrow, StartMeshcat, MeshcatVisualizer\n"
   ]
  },
  {
   "cell_type": "markdown",
   "metadata": {},
   "source": [
    "# VISUALIZATION"
   ]
  },
  {
   "cell_type": "code",
   "execution_count": 2,
   "metadata": {},
   "outputs": [
    {
     "name": "stderr",
     "output_type": "stream",
     "text": [
      "INFO:drake:Meshcat listening for connections at http://localhost:7000\n"
     ]
    }
   ],
   "source": [
    "# Start the visualizer. The cell will output an HTTP link after the execution.\n",
    "# Click the link and a MeshCat tab should appear in your browser.\n",
    "meshcat = StartMeshcat()"
   ]
  },
  {
   "cell_type": "code",
   "execution_count": 3,
   "metadata": {},
   "outputs": [
    {
     "name": "stderr",
     "output_type": "stream",
     "text": [
      "WARNING:drake:/home/ruirui/gym-pybullet-drones/gym_pybullet_drones/assets/generate_urdfs/generate_urdfs/generated.urdf:67: warning: While re-expressing as central inertia: Failure at multibody/tree/unit_inertia.cc:13 in SetFromRotationalInertia(): condition 'mass > 0' failed.\n",
      "WARNING:drake:/home/ruirui/gym-pybullet-drones/gym_pybullet_drones/assets/generate_urdfs/generate_urdfs/generated.urdf:96: warning: While re-expressing as central inertia: Failure at multibody/tree/unit_inertia.cc:13 in SetFromRotationalInertia(): condition 'mass > 0' failed.\n",
      "WARNING:drake:/home/ruirui/gym-pybullet-drones/gym_pybullet_drones/assets/generate_urdfs/generate_urdfs/generated.urdf:125: warning: While re-expressing as central inertia: Failure at multibody/tree/unit_inertia.cc:13 in SetFromRotationalInertia(): condition 'mass > 0' failed.\n",
      "WARNING:drake:/home/ruirui/gym-pybullet-drones/gym_pybullet_drones/assets/generate_urdfs/generate_urdfs/generated.urdf:154: warning: While re-expressing as central inertia: Failure at multibody/tree/unit_inertia.cc:13 in SetFromRotationalInertia(): condition 'mass > 0' failed.\n",
      "WARNING:drake:/home/ruirui/gym-pybullet-drones/gym_pybullet_drones/assets/generate_urdfs/generate_urdfs/generated.urdf:183: warning: While re-expressing as central inertia: Failure at multibody/tree/unit_inertia.cc:13 in SetFromRotationalInertia(): condition 'mass > 0' failed.\n",
      "WARNING:drake:/home/ruirui/gym-pybullet-drones/gym_pybullet_drones/assets/generate_urdfs/generate_urdfs/generated.urdf:212: warning: While re-expressing as central inertia: Failure at multibody/tree/unit_inertia.cc:13 in SetFromRotationalInertia(): condition 'mass > 0' failed.\n",
      "WARNING:drake:/home/ruirui/gym-pybullet-drones/gym_pybullet_drones/assets/generate_urdfs/generate_urdfs/generated.urdf:241: warning: While re-expressing as central inertia: Failure at multibody/tree/unit_inertia.cc:13 in SetFromRotationalInertia(): condition 'mass > 0' failed.\n",
      "WARNING:drake:/home/ruirui/gym-pybullet-drones/gym_pybullet_drones/assets/generate_urdfs/generate_urdfs/generated.urdf:270: warning: While re-expressing as central inertia: Failure at multibody/tree/unit_inertia.cc:13 in SetFromRotationalInertia(): condition 'mass > 0' failed.\n",
      "WARNING:drake:/home/ruirui/gym-pybullet-drones/gym_pybullet_drones/assets/generate_urdfs/generate_urdfs/generated.urdf:299: warning: While re-expressing as central inertia: Failure at multibody/tree/unit_inertia.cc:13 in SetFromRotationalInertia(): condition 'mass > 0' failed.\n",
      "WARNING:drake:/home/ruirui/gym-pybullet-drones/gym_pybullet_drones/assets/generate_urdfs/generate_urdfs/generated.urdf:328: warning: While re-expressing as central inertia: Failure at multibody/tree/unit_inertia.cc:13 in SetFromRotationalInertia(): condition 'mass > 0' failed.\n",
      "WARNING:drake:/home/ruirui/gym-pybullet-drones/gym_pybullet_drones/assets/generate_urdfs/generate_urdfs/generated.urdf:357: warning: While re-expressing as central inertia: Failure at multibody/tree/unit_inertia.cc:13 in SetFromRotationalInertia(): condition 'mass > 0' failed.\n",
      "WARNING:drake:/home/ruirui/gym-pybullet-drones/gym_pybullet_drones/assets/generate_urdfs/generate_urdfs/generated.urdf:386: warning: While re-expressing as central inertia: Failure at multibody/tree/unit_inertia.cc:13 in SetFromRotationalInertia(): condition 'mass > 0' failed.\n",
      "WARNING:drake:/home/ruirui/gym-pybullet-drones/gym_pybullet_drones/assets/generate_urdfs/generate_urdfs/generated.urdf:415: warning: While re-expressing as central inertia: Failure at multibody/tree/unit_inertia.cc:13 in SetFromRotationalInertia(): condition 'mass > 0' failed.\n",
      "WARNING:drake:/home/ruirui/gym-pybullet-drones/gym_pybullet_drones/assets/generate_urdfs/generate_urdfs/generated.urdf:444: warning: While re-expressing as central inertia: Failure at multibody/tree/unit_inertia.cc:13 in SetFromRotationalInertia(): condition 'mass > 0' failed.\n",
      "WARNING:drake:/home/ruirui/gym-pybullet-drones/gym_pybullet_drones/assets/generate_urdfs/generate_urdfs/generated.urdf:473: warning: While re-expressing as central inertia: Failure at multibody/tree/unit_inertia.cc:13 in SetFromRotationalInertia(): condition 'mass > 0' failed.\n",
      "WARNING:drake:/home/ruirui/gym-pybullet-drones/gym_pybullet_drones/assets/generate_urdfs/generate_urdfs/generated.urdf:502: warning: While re-expressing as central inertia: Failure at multibody/tree/unit_inertia.cc:13 in SetFromRotationalInertia(): condition 'mass > 0' failed.\n",
      "LCM self test failed!!\n",
      "Check your routing tables and firewall settings\n",
      "INFO:drake:Click 'Stop Running' or press Esc to quit\n"
     ]
    }
   ],
   "source": [
    "# urdf_path = \"../MEAM-517-FINAL-Project/wheeliebot_sim.urdf\"\n",
    "urdf_path = \"generate_urdfs/generate_urdfs/generated.urdf\"\n",
    "\n",
    "# urdf_path = \"cf2x.urdf\"\n",
    "\n",
    "# Create a model visualizer and add the robot arm.\n",
    "visualizer = ModelVisualizer(meshcat=meshcat)\n",
    "visualizer.parser().AddModels(urdf_path)\n",
    "\n",
    "# When this notebook is run in test mode it needs to stop execution without\n",
    "\n",
    "\n",
    "# user interaction. For interactive model visualization you won't normally\n",
    "# need the 'loop_once' flag.\n",
    "test_mode = True if \"TEST_SRCDIR\" in os.environ else False\n",
    "\n",
    "# Start the interactive visualizer.\n",
    "# Click the \"Stop Running\" button in MeshCat when you're finished.\n",
    "visualizer.Run(loop_once=test_mode)"
   ]
  },
  {
   "cell_type": "markdown",
   "metadata": {},
   "source": [
    "# SIM SETUP"
   ]
  },
  {
   "cell_type": "code",
   "execution_count": null,
   "metadata": {},
   "outputs": [],
   "source": [
    "# import matplotlib.pyplot as plt\n",
    "# import numpy as np\n",
    "# import time\n",
    "\n",
    "# from pydrake.all import (\n",
    "#     DiagramBuilder, Simulator, FindResourceOrThrow, MultibodyPlant, PiecewisePolynomial, SceneGraph,\n",
    "#     Parser, MultibodyPositionToGeometryPose, TrajectorySource, Demultiplexer, ConstantVectorSource\n",
    "# )\n",
    "# from pydrake.all import Simulator, DiagramBuilder, AddMultibodyPlantSceneGraph,\\\n",
    "#                         Parser, RigidTransform, MeshcatVisualizer, MeshcatVisualizerParams, \\\n",
    "#                         ConstantVectorSource, ConstantValueSource, PiecewisePolynomial,\\\n",
    "#                         AbstractValue, HalfSpace, CoulombFriction\n",
    "\n",
    "# # Create a MultibodyPlant for the arm\n",
    "# file_name = \"wheeliebot_sim.urdf\"\n",
    "# # file_name = \"../MEAM-517-Homework-6/planar_walker.urdf\"\n",
    "# builder = DiagramBuilder()\n",
    "# scene_graph = builder.AddSystem(SceneGraph())\n",
    "# plant = builder.AddSystem(MultibodyPlant(0.0))\n",
    "# plant.RegisterAsSourceForSceneGraph(scene_graph)\n",
    "# Parser(plant=plant).AddModels(file_name)\n",
    "# plant.WeldFrames(\n",
    "#     plant.world_frame(),\n",
    "#     plant.GetBodyByName(\"base\").body_frame(),\n",
    "#     RigidTransform.Identity()\n",
    "# )\n",
    "# X_WG = HalfSpace.MakePose(np.array([0,0, 1]), np.zeros(3,))\n",
    "# plant.RegisterCollisionGeometry(\n",
    "#     plant.world_body(), \n",
    "#     X_WG, HalfSpace(), \n",
    "#     \"collision\", \n",
    "#     CoulombFriction(1.0, 1.0)\n",
    "# )\n",
    "# plant.Finalize()\n",
    "\n",
    "# # n_q = plant.num_positions()\n",
    "# # n_v = plant.num_velocities()\n",
    "# # n_u = plant.num_actuators()\n",
    "# # print(n_q, n_v, n_u)\n",
    "# # print(plant.GetPositionNames())\n",
    "\n",
    "# # # print(planar_arm.GetPositionNames())\n",
    "# # # print(planar_arm.GetVelocityNames())\n",
    "# # # x_traj_source = builder.AddSystem(TrajectorySource(x_traj))\n",
    "# # # u_traj_source = builder.AddSystem(TrajectorySource(u_traj))\n",
    "\n",
    "# # demux = builder.AddSystem(Demultiplexer(np.array([n_q, n_v])))\n",
    "# # # print(demux.get_output_ports_sizes())\n",
    "# # to_pose = builder.AddSystem(MultibodyPositionToGeometryPose(plant))\n",
    "# # zero_inputs = builder.AddSystem(ConstantVectorSource(np.random.rand(n_u)))\n",
    "# # x_traj_source = builder.AddSystem(ConstantVectorSource(np.random.rand(n_q+n_v)))\n",
    "# # # x_traj_source = builder.AddSystem(ConstantVectorSource(np.array([0,0,0,0,1,0,0,0,0,0])))\n",
    "\n",
    "# # builder.Connect(zero_inputs.get_output_port(), plant.get_actuation_input_port())\n",
    "# # builder.Connect(x_traj_source.get_output_port(), demux.get_input_port())\n",
    "# # builder.Connect(demux.get_output_port(0), to_pose.get_input_port())\n",
    "# # builder.Connect(to_pose.get_output_port(), scene_graph.get_source_pose_port(plant.get_source_id()))\n",
    "\n",
    "# # MeshcatVisualizer.AddToBuilder(builder, scene_graph, meshcat)\n",
    "\n",
    "# # diagram = builder.Build()\n",
    "# # diagram.set_name(\"diagram\")\n",
    "\n",
    "# # tf = 3.0\n",
    "# # # # Visualize the motion for `n_playback` times\n",
    "# # n_playback = 1\n",
    "# # for i in range(n_playback):\n",
    "# #   # Set up a simulator to run this diagram.\n",
    "# #   simulator = Simulator(diagram)\n",
    "# #   simulator.Initialize()\n",
    "# #   simulator.set_target_realtime_rate(1)\n",
    "# #   simulator.AdvanceTo(tf);\n",
    "# #   time.sleep(2)\n"
   ]
  },
  {
   "cell_type": "code",
   "execution_count": null,
   "metadata": {},
   "outputs": [
    {
     "name": "stderr",
     "output_type": "stream",
     "text": [
      "INFO:drake:Meshcat listening for connections at http://localhost:7002\n"
     ]
    },
    {
     "ename": "RuntimeError",
     "evalue": "Actuation input port for model instance wheeliebot must be connected or PD gains must be specified for each actuator.",
     "output_type": "error",
     "traceback": [
      "\u001b[0;31m---------------------------------------------------------------------------\u001b[0m",
      "\u001b[0;31mRuntimeError\u001b[0m                              Traceback (most recent call last)",
      "Cell \u001b[0;32mIn[5], line 68\u001b[0m\n\u001b[1;32m     66\u001b[0m simulator\u001b[38;5;241m.\u001b[39mInitialize()\n\u001b[1;32m     67\u001b[0m simulator\u001b[38;5;241m.\u001b[39mset_target_realtime_rate(\u001b[38;5;241m0.5\u001b[39m)\n\u001b[0;32m---> 68\u001b[0m \u001b[43msimulator\u001b[49m\u001b[38;5;241;43m.\u001b[39;49m\u001b[43mAdvanceTo\u001b[49m\u001b[43m(\u001b[49m\u001b[43msim_time\u001b[49m\u001b[43m)\u001b[49m\n",
      "\u001b[0;31mRuntimeError\u001b[0m: Actuation input port for model instance wheeliebot must be connected or PD gains must be specified for each actuator."
     ]
    }
   ],
   "source": [
    "import pydrake.multibody.plant as multibody_plant\n",
    "from pydrake.systems.framework import DiagramBuilder\n",
    "from pydrake.all import AddMultibodyPlantSceneGraph,Parser,RigidTransform,Simulator, MeshcatVisualizer, MeshcatVisualizerParams, StartMeshcat,HalfSpace, CoulombFriction, RollPitchYaw\n",
    "import numpy as np\n",
    "# Displays diagram graph\n",
    "from IPython.display import SVG, display\n",
    "import pydot\n",
    "#from pydrake.systems.planar_scenegraph_visualizer import ConnectPlanarSceneGraphVisualizer\n",
    "# Instantiate builder, plant, parser\n",
    "# Instantiate builder, plant, parser\n",
    "builder = DiagramBuilder()\n",
    "time_step = .0005\n",
    "plant, scene_graph = AddMultibodyPlantSceneGraph(builder,time_step)\n",
    "parser = Parser(plant)\n",
    "\n",
    "# Load the URDF file\n",
    "urdf_file = \"wheeliebot_sim.urdf\"\n",
    "parser.AddModels(urdf_file)\n",
    "\n",
    "# Add ground collision\n",
    "#plant.WeldFrames(\n",
    "#    plant.world_frame(),\n",
    "#    plant.GetBodyByName(\"chassis\").body_frame(),\n",
    "#    RigidTransform.Identity()\n",
    "#)\n",
    "\n",
    "plant.Finalize()\n",
    "\n",
    "#Set up controllers\n",
    "#TODO\n",
    "\n",
    "meshcat = StartMeshcat()\n",
    "\n",
    "# Add MeshcatVisualizer\n",
    "vis_params = MeshcatVisualizerParams(publish_period=0.01)\n",
    "visualizer = MeshcatVisualizer.AddToBuilder(builder, scene_graph, meshcat, params=vis_params)\n",
    "\n",
    "#visualizer.load()\n",
    "#visualizer.draw(context)\n",
    "# Build and start the simulation\n",
    "diagram = builder.Build()\n",
    "context = diagram.CreateDefaultContext()\n",
    "mut_context = diagram.GetMutableSubsystemContext(plant, context)\n",
    "context = diagram.CreateDefaultContext()\n",
    "\n",
    "\n",
    "# Set initial condition\n",
    "q_init = np.zeros((plant.num_positions(),))\n",
    "q_init[1] = 1.2\n",
    "    \n",
    "# #     [-0.02885663  0.79724343  0.92054569 -1.85805094 -1.55059078  0.0408231\n",
    "# #  -0.00555336 -0.21025523 -0.01119413 -0.66463828]\n",
    "\n",
    "\n",
    "plant.SetPositions(mut_context, q_init)\n",
    "\n",
    "u_test = np.array([0,0])\n",
    "\n",
    "# Set zero input torque for now\n",
    "plant.get_actuation_input_port().FixValue(\n",
    "    mut_context, u_test)\n",
    "\n",
    "sim_time = 2\n",
    "simulator = Simulator(diagram)\n",
    "simulator.reset_context(context)\n",
    "simulator.Initialize()\n",
    "simulator.set_target_realtime_rate(0.5)\n",
    "simulator.AdvanceTo(sim_time)"
   ]
  }
 ],
 "metadata": {
  "kernelspec": {
   "display_name": "pydrake",
   "language": "python",
   "name": "python3"
  },
  "language_info": {
   "codemirror_mode": {
    "name": "ipython",
    "version": 3
   },
   "file_extension": ".py",
   "mimetype": "text/x-python",
   "name": "python",
   "nbconvert_exporter": "python",
   "pygments_lexer": "ipython3",
   "version": "3.10.13"
  }
 },
 "nbformat": 4,
 "nbformat_minor": 2
}
